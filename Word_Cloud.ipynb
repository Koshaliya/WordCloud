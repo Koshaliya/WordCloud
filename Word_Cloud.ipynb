{
  "nbformat": 4,
  "nbformat_minor": 0,
  "metadata": {
    "colab": {
      "name": "Word Cloud.ipynb",
      "provenance": []
    },
    "kernelspec": {
      "name": "python3",
      "display_name": "Python 3"
    },
    "language_info": {
      "name": "python"
    }
  },
  "cells": [
    {
      "cell_type": "code",
      "execution_count": null,
      "metadata": {
        "colab": {
          "base_uri": "https://localhost:8080/"
        },
        "id": "Ya-cK_SKQFAk",
        "outputId": "23683e50-3527-4830-a29a-9755b49801a6"
      },
      "outputs": [
        {
          "output_type": "stream",
          "name": "stdout",
          "text": [
            "\u001b[K     |████████████████████████████████| 262 kB 12.9 MB/s \n",
            "\u001b[K     |████████████████████████████████| 161 kB 69.6 MB/s \n",
            "\u001b[K     |████████████████████████████████| 87 kB 6.6 MB/s \n",
            "\u001b[K     |████████████████████████████████| 87 kB 5.4 MB/s \n",
            "\u001b[?25h  Building wheel for stylecloud (setup.py) ... \u001b[?25l\u001b[?25hdone\n",
            "  Building wheel for fire (setup.py) ... \u001b[?25l\u001b[?25hdone\n",
            "  Building wheel for tinycss (setup.py) ... \u001b[?25l\u001b[?25hdone\n"
          ]
        }
      ],
      "source": [
        "#! pip install tweepy stylecloud -q\n"
      ]
    },
    {
      "cell_type": "code",
      "source": [
        "import matplotlib.pyplot as plt"
      ],
      "metadata": {
        "id": "QwNOXHs6QO74"
      },
      "execution_count": null,
      "outputs": []
    },
    {
      "cell_type": "code",
      "source": [
        "!pip install Wordcloud"
      ],
      "metadata": {
        "colab": {
          "base_uri": "https://localhost:8080/"
        },
        "id": "CVepcars-L2D",
        "outputId": "d3415a36-be22-47e3-d332-f34f80309a61"
      },
      "execution_count": null,
      "outputs": [
        {
          "output_type": "stream",
          "name": "stdout",
          "text": [
            "Requirement already satisfied: Wordcloud in /usr/local/lib/python3.7/dist-packages (1.5.0)\n",
            "Requirement already satisfied: numpy>=1.6.1 in /usr/local/lib/python3.7/dist-packages (from Wordcloud) (1.19.5)\n",
            "Requirement already satisfied: pillow in /usr/local/lib/python3.7/dist-packages (from Wordcloud) (7.1.2)\n"
          ]
        }
      ]
    },
    {
      "cell_type": "code",
      "source": [
        "from wordcloud import WordCloud, STOPWORDS"
      ],
      "metadata": {
        "id": "Fy5mJ4MgQPgI"
      },
      "execution_count": null,
      "outputs": []
    },
    {
      "cell_type": "code",
      "source": [
        "#import sys, os"
      ],
      "metadata": {
        "id": "ZAc0nyjlQPjG"
      },
      "execution_count": null,
      "outputs": []
    },
    {
      "cell_type": "code",
      "source": [
        "#os.chdir(sys.path[0])"
      ],
      "metadata": {
        "id": "Cbd3Py6v86f3"
      },
      "execution_count": null,
      "outputs": []
    },
    {
      "cell_type": "code",
      "source": [
        "text = open ('jeff_bezos_speech.txt',mode='r',encoding='utf-8').read()"
      ],
      "metadata": {
        "id": "DnZ-L4yR86iy"
      },
      "execution_count": null,
      "outputs": []
    },
    {
      "cell_type": "code",
      "source": [
        "stopwords=STOPWORDS"
      ],
      "metadata": {
        "id": "H7ic8l4v-X5z"
      },
      "execution_count": null,
      "outputs": []
    },
    {
      "cell_type": "code",
      "source": [
        "print(stopwords)"
      ],
      "metadata": {
        "colab": {
          "base_uri": "https://localhost:8080/"
        },
        "id": "IwzQPJy686l4",
        "outputId": "68f1bcb3-3c8e-43f6-db2e-9c711fa3b2bc"
      },
      "execution_count": null,
      "outputs": [
        {
          "output_type": "stream",
          "name": "stdout",
          "text": [
            "{'also', 'then', 'cannot', 'why', \"she'd\", 'com', 'below', 'own', 'theirs', 'otherwise', \"why's\", 'again', 'would', 'him', 'while', \"wouldn't\", \"they'll\", 'me', 'as', 'ourselves', 'most', 'his', 'but', 'nor', 'myself', 'or', 'them', \"we'd\", \"you'd\", 'itself', 'further', 'than', 'what', \"where's\", 'the', \"he'll\", 'been', \"he'd\", \"how's\", 'yourselves', 'we', 'who', 'like', 'my', 'about', 'all', 'by', 'with', \"couldn't\", 'your', 'against', \"aren't\", 'can', \"isn't\", 'no', 'up', 'after', 'hers', 'where', 'has', \"haven't\", 'i', 'they', \"it's\", 'until', 'through', 'some', \"mustn't\", 'she', 'ours', 'does', 'in', \"you'll\", \"hasn't\", \"there's\", \"won't\", \"they've\", 'himself', 'during', 'having', \"that's\", 'for', 'which', 'because', 'have', 'our', 'just', 'her', 'doing', \"you're\", 'both', 'few', \"shouldn't\", 'from', \"don't\", 'too', 'is', 'being', 'it', 'shall', 'are', 'an', 'so', \"what's\", 'each', \"he's\", \"i've\", 'k', 'once', 'on', \"she's\", 'whom', 'that', \"can't\", 'themselves', 'how', 'had', \"i'll\", 'out', 'this', \"when's\", 'such', 'did', 'other', 'when', 'into', \"we've\", 'ever', \"she'll\", 'am', \"we're\", \"you've\", \"wasn't\", \"weren't\", 'yourself', 'their', \"i'd\", 'these', 'between', 'only', \"who's\", 'to', 'very', \"shan't\", \"they're\", \"we'll\", 'he', 'ought', 'http', 'was', 'www', 'and', 'do', 'get', 'however', 'off', 'yours', 'over', \"didn't\", 'if', 'be', \"here's\", 'there', \"let's\", 'not', 'same', 'before', 'under', 'since', 'its', 'should', 'a', \"hadn't\", 'more', 'r', \"i'm\", \"doesn't\", 'those', 'at', 'above', 'down', 'herself', 'could', 'else', 'you', 'were', 'any', 'of', \"they'd\", 'here'}\n"
          ]
        }
      ]
    },
    {
      "cell_type": "code",
      "source": [
        "wc = WordCloud(\n",
        "    background_color='white',\n",
        "    stopwords=stopwords,\n",
        "    height=600,\n",
        "    width=400\n",
        ")\n",
        "\n",
        "wc.generate(text)"
      ],
      "metadata": {
        "colab": {
          "base_uri": "https://localhost:8080/"
        },
        "id": "pDePJp75-dLy",
        "outputId": "9e16839a-f0b9-4b07-ae65-64aaa4ba7718"
      },
      "execution_count": null,
      "outputs": [
        {
          "output_type": "execute_result",
          "data": {
            "text/plain": [
              "<wordcloud.wordcloud.WordCloud at 0x7efd24025410>"
            ]
          },
          "metadata": {},
          "execution_count": 21
        }
      ]
    },
    {
      "cell_type": "code",
      "source": [
        "wc.to_file('wordcloud_output.png')"
      ],
      "metadata": {
        "colab": {
          "base_uri": "https://localhost:8080/"
        },
        "id": "xyjVJs2f_FZS",
        "outputId": "44a91715-3cf7-4f54-b7dd-7a7e6c11a3b9"
      },
      "execution_count": null,
      "outputs": [
        {
          "output_type": "execute_result",
          "data": {
            "text/plain": [
              "<wordcloud.wordcloud.WordCloud at 0x7efd24025410>"
            ]
          },
          "metadata": {},
          "execution_count": 22
        }
      ]
    }
  ]
}